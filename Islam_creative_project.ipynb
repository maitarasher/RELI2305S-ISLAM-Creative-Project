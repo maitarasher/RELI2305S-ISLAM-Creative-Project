{
 "cells": [
  {
   "cell_type": "markdown",
   "metadata": {
    "pycharm": {
     "name": "#%% md\n"
    }
   },
   "source": [
    "Maitar Asher (ma4265)\n",
    "\n",
    "Professor Haider \n",
    "\n",
    "ISLAM\n",
    "\n",
    "August 3rd 2023"
   ]
  },
  {
   "cell_type": "markdown",
   "metadata": {},
   "source": [
    "# Islam - Creative Project"
   ]
  },
  {
   "cell_type": "markdown",
   "metadata": {},
   "source": [
    "# Structure"
   ]
  },
  {
   "cell_type": "markdown",
   "metadata": {},
   "source": [
    "1. Set-up (to be able to run the code)\n",
    "    - Requirements \n",
    "    - Libraries \n",
    "2. Background \n",
    "3. Islamic WordSense Model\n",
    "    - Mini Islamic WordNet + Model\n",
    "        - Code portion \n",
    "    - Test Data\n",
    "        - Code portion \n",
    "    - Performance \n",
    "    - Needed Improvements\n",
    "    "
   ]
  },
  {
   "cell_type": "markdown",
   "metadata": {
    "pycharm": {
     "name": "#%% md\n"
    }
   },
   "source": [
    "# 1. Set-up"
   ]
  },
  {
   "cell_type": "markdown",
   "metadata": {
    "heading_collapsed": true,
    "pycharm": {
     "name": "#%% md\n"
    }
   },
   "source": [
    "## Requirements"
   ]
  },
  {
   "cell_type": "markdown",
   "metadata": {
    "heading_collapsed": true,
    "hidden": true
   },
   "source": [
    "### NLTK"
   ]
  },
  {
   "cell_type": "markdown",
   "metadata": {
    "hidden": true
   },
   "source": [
    "NLTK (Natural Language Toolkit) is the conventional method to access WordNet in Python. NLTK provides a wide range of valuable resources, including POS (Part-of-Speech) taggers, parsers, and access to various text corpora and datasets."
   ]
  },
  {
   "cell_type": "code",
   "execution_count": null,
   "metadata": {
    "hidden": true,
    "pycharm": {
     "name": "#%%\n"
    }
   },
   "outputs": [],
   "source": [
    "!pip install nltk"
   ]
  },
  {
   "cell_type": "markdown",
   "metadata": {
    "hidden": true
   },
   "source": [
    "After installing NLTK, you must download the WordNet data to utilize its functionalities. To do this, open a Python interpreter by running the following command:\n",
    "\n",
    "($) python\n",
    "\n",
    "The interpreter will display information about your Python version and environment. Once in the Python interpreter, import the NLTK library:\n",
    "\n",
    "(>>>) import nltk\n",
    "\n",
    "To initiate the download of additional NLTK packages, including WordNet data, use the following command:\n",
    "\n",
    "(>>>) nltk.download()\n",
    "\n",
    "Executing this command will open a new window, providing you with a selection of add-on packages (data and models) for NLTK. Navigate to the \"corpora\" tab in the window and choose the \"wordnet\" package. Additionally, while you're there, proceed to install the English stopword list from the \"stopwords\" package. This ensures you have access to both WordNet data and the stopwords needed for various NLP tasks."
   ]
  },
  {
   "cell_type": "markdown",
   "metadata": {
    "heading_collapsed": true,
    "pycharm": {
     "name": "#%% md\n"
    }
   },
   "source": [
    "## Libraries"
   ]
  },
  {
   "cell_type": "code",
   "execution_count": 3,
   "metadata": {
    "hidden": true
   },
   "outputs": [],
   "source": [
    "from nltk.corpus import wordnet as WN\n",
    "from nltk.corpus import stopwords\n",
    "from collections import defaultdict\n",
    "import string"
   ]
  },
  {
   "cell_type": "markdown",
   "metadata": {},
   "source": [
    "# 2. Background "
   ]
  },
  {
   "cell_type": "markdown",
   "metadata": {},
   "source": [
    "The inspiration for this project arose from the area of Natural Language Processing (NLP) known as Lexical Semantics, which focuses on understanding the different senses or meanings that a word can represent based on its context. A word can have multiple senses or interpretations, and a pairing of a word form with its specific sense is known as \"lexeme.\" For example, the word \"bank\" can denote a financial institution or the side of a river.\n",
    "\n",
    "During my course of studying Islam, I discovered that many Islamic terms also exhibit different meanings based on the context in which they are used. For instance, terms like \"ijtihad\" can have distinct interpretations in classical Islamic thought compared to modernist perspectives. This realization sparked an interest in building a model capable of capturing these subtle differences in meaning within the Islamic context.\n",
    "\n",
    "To achieve this, the project aims to leverage a model that can learn the correct meaning of Islamic words from their context using a lexical database containing English word senses and their relations. WordNet, a well-known lexical database in the NLP domain, serves as an inspiration due to its structure and functionality. However, WordNet does not sufficiently cover the wide array of Islamic terms I wants to explore. For instance, it lacks comprehensive definitions for terms like \"ijtihad\" that encompass various nuanced interpretations.\n",
    "\n",
    "See below:"
   ]
  },
  {
   "cell_type": "code",
   "execution_count": 12,
   "metadata": {},
   "outputs": [
    {
     "data": {
      "text/plain": [
       "[Lemma('ijtihad.n.01.ijtihad')]"
      ]
     },
     "execution_count": 12,
     "metadata": {},
     "output_type": "execute_result"
    }
   ],
   "source": [
    "lexemes = WN.lemmas('ijtihad') # Retrieve all lexemes for the term'ijtihad'\n",
    "lexemes"
   ]
  },
  {
   "cell_type": "code",
   "execution_count": 11,
   "metadata": {},
   "outputs": [],
   "source": [
    "l1 = lexemes[0] # The only lexeme for 'ijtihad'"
   ]
  },
  {
   "cell_type": "markdown",
   "metadata": {},
   "source": [
    "WordNet represents word sense as synsets, sets of lemmas (words) that have synonymous lexemes in one context."
   ]
  },
  {
   "cell_type": "code",
   "execution_count": 13,
   "metadata": {},
   "outputs": [
    {
     "data": {
      "text/plain": [
       "Synset('ijtihad.n.01')"
      ]
     },
     "execution_count": 13,
     "metadata": {},
     "output_type": "execute_result"
    }
   ],
   "source": [
    "s1 = l1.synset() # get the synset for the first lexeme\n",
    "s1"
   ]
  },
  {
   "cell_type": "code",
   "execution_count": 23,
   "metadata": {},
   "outputs": [
    {
     "data": {
      "text/plain": [
       "['ijtihad']"
      ]
     },
     "execution_count": 23,
     "metadata": {},
     "output_type": "execute_result"
    }
   ],
   "source": [
    "s1.lemma_names() # get synonyms for this interpretation "
   ]
  },
  {
   "cell_type": "markdown",
   "metadata": {},
   "source": [
    "The definition and examples of the synset essentially offer us a clear and specific understanding and interpretation of the word."
   ]
  },
  {
   "cell_type": "code",
   "execution_count": 16,
   "metadata": {},
   "outputs": [
    {
     "data": {
      "text/plain": [
       "'the endeavor of a Moslem scholar to derive a rule of divine law from the Koran and Hadith without relying on the views of other scholars; by the end of the 10th century theologians decided that debate on such matters would be closed and Muslim theology and law were frozen'"
      ]
     },
     "execution_count": 16,
     "metadata": {},
     "output_type": "execute_result"
    }
   ],
   "source": [
    "s1.definition()"
   ]
  },
  {
   "cell_type": "code",
   "execution_count": 17,
   "metadata": {},
   "outputs": [
    {
     "data": {
      "text/plain": [
       "['some reform-minded Islamic scholars believe that reopening ijtihad is a prerequisite for the survival of Islam']"
      ]
     },
     "execution_count": 17,
     "metadata": {},
     "output_type": "execute_result"
    }
   ],
   "source": [
    "s1.examples()"
   ]
  },
  {
   "cell_type": "markdown",
   "metadata": {},
   "source": [
    "Motivated by WordNet's infrastructure and realizing the need for a more tailored resource, I decided to build my own **mini Islamic WordNet**. This customized **Islamic WordNet** will incorporate a diverse range of Islamic terms and their multiple interpretations to enable the model to learn the context of unseen data effectively. In addition, I incorporated terms that may not have multiple meanings but are frequently confused with various definitions in texts.\n",
    "\n",
    "By creating a specialized Islamic WordNet and developing a model that utilizes this resource, the project aspires to enhance the understanding of Islamic terminology within various contexts and offer a valuable tool for anyone seeking to explore the intricacies of Islamic concepts and interpretations."
   ]
  },
  {
   "cell_type": "markdown",
   "metadata": {},
   "source": [
    "# 3. Islamic WordSense Model "
   ]
  },
  {
   "cell_type": "markdown",
   "metadata": {},
   "source": [
    "## Mini Islamic WordNet + Model"
   ]
  },
  {
   "cell_type": "markdown",
   "metadata": {},
   "source": [
    "Below are the terms included in my Islamic WordNet, along with their corresponding lexemes presented as \"word.pos.number\", and the definition and examples provided for each lexeme. \n",
    "I refrained from using the additional attribute \"synset\" for each term, similar to WordNet, because these specific Islamic terms do not have synonyms.\n",
    "\n",
    "for \"word.pos.number\": \n",
    "\n",
    "\"word\" is the word itself, \"pos\"(part of speech) is one of the module attributes ADJ, ADJ_SAT, ADV, NOUN or VERB. This WordNet only contains NOUNS (n), \"number\" is the sense number, counting from 1.\n",
    "    \n",
    "- **Ijtihad**\n",
    "    1. ijtihad.n.01:\n",
    "        - Definition: A legal method to derive law by employing reasoning rooted in the authentic and authoritative texts, namely the Quran and the Sunna.\n",
    "        - Examples:\n",
    "            - In the late eighteenth and early nineteenth centuries, revivalist movements advocated for the resurgence of the practice of ijtihad within the legal system. \n",
    "    2. ijtihad.n.02:\n",
    "          - Definition: The individual practice of Muslims using reason.\n",
    "          - Examples:\n",
    "              - Al-Afghani, a prominent figure providing valuable insights into the Islamic Modernist movement, asserted that anyone with a reasonable level of religious knowledge could engage in ijtihad.\n",
    "              - In post-Islamic modernist movements, such as progressives and militant Islam, ijtihad was perceived as pure reasoning not constrained by the religious texts.\n",
    "- **Jihad** (definitions taken from WordNet)\n",
    "    1. jihad.n.01:\n",
    "        - Definition: A holy war waged by Muslims against infidels.\n",
    "        - Examples:\n",
    "            - Jihad is viewed as a defensive struggle and an individual obligation for all Muslims, to be waged when the Muslim community comes under attack.\n",
    "    2. jihad.n.02: \n",
    "        - Definition: A holy struggle or striving by a Muslim for a moral or spiritual goal.\n",
    "        - Examples:\n",
    "            -  A Muslim's jihad can be to detach oneself from the Nafs (self, physical needs) and establish a connection with the Ruh (spiritual essence).\n",
    "- **Taklid**\n",
    "    1. taklid.n.01:\n",
    "        - Definition: A legal pratice of classical jurists following the legal opinions and rulings of qualified scholars in matters of Islamic law.\n",
    "        - Examples:\n",
    "            - Revivalists, who advocated for the use of ijtihad in the legal system, generally rejected the use of taklid to some extent.\n",
    "    2. taklid.n.02:\n",
    "        - Definition: The practice of jurists emulating the legal opinions of their predecessors. It is perceived as an imitation because the jurists rely on the judgments and reasoning already established by earlier scholars without engaging in independent reasoning.\n",
    "        - Examples: \n",
    "            - Modernists perceived taklid as mere imitation, leading to social stagnation.\n",
    "- **Takfir**\n",
    "    1. *takfir.n.01*:\n",
    "        - Definition: The act of a Muslim declaring an individual Muslim to be an unbeliever or apostate, usually based on their beliefs or actions contrary to the tenets of Islam.\n",
    "        - Examples:\n",
    "            - The revivalist Muhammad ibn Abd al-Wahhab considered takfir as a means to return to the fundamental roots of Islam.\n",
    "    2. *takfir.n.02*:\n",
    "        - Definition: A controversial practice of declaring a Muslim ruler or government as an apostate due to their perceived violation of Islamic principles or unjust rule. The term used to describe this practice is political takfir.\n",
    "         - Examples:\n",
    "             - Some Muslim practitioners hold the belief that God has appointed people to govern, and as a result, they cannot be overthrown. The concept of political takfir thus justifies the overthrow of a government if it is deemed non-Islamic.\n",
    "    \n",
    "- **Ijma**\n",
    "    1. *ijma.n.01*:\n",
    "        - Definition: The consensus of the Muslim community's scholars on a particular legal issue.\n",
    "        - Examples: - \n",
    "- **Fatwa**\n",
    "   1. *fatwa.n.01*:\n",
    "        - Definition: In its classical formulation, a fatwa is a formal legal opinion or answer issued by a qualified Islamic scholar (mufti). It provides guidance on various aspects of life, such as personal conduct, finance, and morality.\n",
    "        - Examples:\n",
    "            - The fatwa (response) provided by the mufti solely represented a legal opinion, and the individual petitioner was not obligated to comply with it.\n",
    "            - Within the classical Islamic legal system, when judges (qadis) applied a mufti's fatwa to a legal case, which they seldom dismissed, the fatwa acquired legal binding status.\n",
    "   2. *fatwa.n.02*:\n",
    "        - Definition: A response to an issue provided by an individual without legal expertise or formal training, also known as lay fatwa.   \n",
    "        - Examples: - \n",
    "- **Mufti** \n",
    "   1. *mufti.n.01*:\n",
    "        - Definition: In a classical Islamic legal system, a mufti is a private, educated legal specialist responsible both legally and morally to the society in which they live.\n",
    "        - Examples:\n",
    "            -  A mufti, as an Islamic legal expert, is qualified to issue fatwas (legal opinions). \n",
    "- **Fiqh** \n",
    "   1. *fiqh.n.01*:\n",
    "        - Definition: Classical Islamic jurisprudence. It encompasses the practices and processes of understanding God's will and forming Islamic law that is based the Quran and the Sunna.\n",
    "        - Examples: - \n",
    "- **Sharia** \n",
    "   1. *sharia.n.01*:\n",
    "        - Definition: A body of religious law derived from fiqh and rooted in the sacred scriptures of Islam, particularly the Quran and the Sunnah.\n",
    "        - Examples: - \n",
    "- **Imam** \n",
    "    1. imam.n.01:\n",
    "        - Definition: Within Shia Islam, the term refers to the absolute spiritual and political leader of the muslim community, beginning with the prophet Muhammad, who then appointed his cousin and son-in-law Imam Ali ibn Abi Talib.    \n",
    "        - Examples:  \n",
    "            -  Twelver and Ismaili Shiites believe that the formal Imam is appointed by the previous Imam, whereas Zaydi Shiites believe that a qualified candidate becomes Imam through leading a successful military uprising.\n",
    "            - Imams are divinely designated to guide the Muslim community, serving as interpreters and custodians of revelation.\n",
    "    2. imam.n.02: \n",
    "          - Definition: In Sunni Islam, an Imam can be the individual who leads prayers in a mosque.\n",
    "        - Examples: - \n",
    "- **Tariqa** \n",
    "    1. tariqa.n.01:\n",
    "        - Definition: A path or way.\n",
    "        - Examples: - \n",
    "    2. tariqa.n.02: \n",
    "        - Definition: A mystic, spiritual path of individual Sufis (practitioners of Sufism). \n",
    "        - Examples: - \n"
   ]
  },
  {
   "cell_type": "markdown",
   "metadata": {},
   "source": [
    "### Code portion "
   ]
  },
  {
   "cell_type": "code",
   "execution_count": 132,
   "metadata": {},
   "outputs": [],
   "source": [
    "class Islamic_Wordnet():\n",
    "    def __init__(self):\n",
    "        \"\"\"\n",
    "        lexeme is a pairing of a particular word form with its sense -- e.g bright (light) vs bright (idea)\n",
    "        for \"<word>.<pos>.<number>\":\n",
    "        <word> is the word itself\n",
    "        <pos> is one of the module attributes ADJ, ADJ_SAT, ADV, NOUN or VERB, this WordNet only contains NOUNS (n)\n",
    "        <number> is the sense number, counting from 0.\n",
    "        \"\"\"\n",
    "        self.lexemes = {'ijtihad': ['ijtihad.n.01','ijtihad.n.02'], #1\n",
    "                        'jihad': ['jihad.n.01', 'jihad.n.02'], #2\n",
    "                        'taklid': ['taklid.n.01', 'taklid.n.02'], #3\n",
    "                        'takfir': ['takfir.n.01', 'takfir.n.02'], #4\n",
    "                        'ijma': ['ijma.n.01'], #5\n",
    "                        'fatwa': ['fatwa.n.01', 'fatwa.n.02'], #6\n",
    "                        'mufti': ['mufti.n.01'], #7\n",
    "                        'fiqh': ['fiqh.n.01'], #8\n",
    "                        'sharia': ['sharia.n.01'], #9\n",
    "                        'imam': ['imam.n.01','imam.n.02'], #10\n",
    "                        'tariqa': ['tariqa.n.01','tariqa.n.02']} #11\n",
    "        self.lexemes_def = {'ijtihad.n.01':['A legal method to derive law by employing reasoning rooted in the authentic and authoritative texts, namely the Quran and the Sunna.'],\n",
    "                            'ijtihad.n.02':['The individual practice of Muslims using reason.'],\n",
    "                            'jihad.n.01':['A holy war waged by Muslims against infidels.'],\n",
    "                           'jihad.n.02': ['A holy struggle or striving by a Muslim for a moral or spiritual goal.'],\n",
    "                           'taklid.n.01':['A legal pratice of classical jurists following the legal opinions and rulings of qualified scholars in matters of Islamic law.'],\n",
    "                            'taklid.n.02':['The practice of jurists emulating the legal opinions of their predecessors. It is perceived as an imitation because the jurists rely on the judgments and reasoning already established by earlier scholars without engaging in independent reasoning.'],\n",
    "                            'takfir.n.01':['The act of a Muslim declaring an individual Muslim to be an unbeliever or apostate, usually based on their beliefs or actions contrary to the tenets of Islam.'],\n",
    "                            'takfir.n.02':['A controversial practice of declaring a Muslim ruler or government as an apostate due to their perceived violation of Islamic principles or unjust rule. The term used to describe this practice is political takfir.'],\n",
    "                            'ijma.n.01':['The consensus of the Muslim community\\'s scholars on a particular legal issue.'],\n",
    "                            'fatwa.n.01':['In its classical formulation, a fatwa is a formal legal opinion or answer issued by a qualified Islamic scholar (mufti). It provides guidance on various aspects of life, such as personal conduct, finance, and morality.'],\n",
    "                            'fatwa.n.02':['A response to an issue provided by an individual without legal expertise or formal training, also known as lay fatwa.'],\n",
    "                            'mufti.n.01':['In a classical Islamic legal system, a mufti is a private, educated legal specialist responsible both legally and morally to the society in which they live.'],\n",
    "                            'fiqh.n.01':['Classical Islamic jurisprudence. It encompasses the practices and processes of understanding God\\'s will and forming Islamic law that is based the Quran and the Sunna.'],\n",
    "                            'sharia.n.01':['A body of religious law derived from fiqh and rooted in the sacred scriptures of Islam, particularly the Quran and the Sunnah.'],\n",
    "                            'imam.n.01':[' Within Shia Islam, the term refers to the absolute spiritual and political leader of the muslim community, beginning with the prophet Muhammad, who then appointed his cousin and son-in-law Imam Ali ibn Abi Talib.'],\n",
    "                            'imam.n.02':['In Sunni Islam, an Imam can be the individual who leads prayers in a mosque.'],\n",
    "                            'tariqa.n.01':['A path or way'],\n",
    "                            'tariqa.n.02':['A mystic, spiritual path of individual Sufis (practitioners of Sufism).']}\n",
    "\n",
    "        self.lexemes_examples = {'ijtihad.n.01':['In the late eighteenth and early nineteenth centuries, revivalist movements advocated for the resurgence of the practice of ijtihad within the legal system.'],\n",
    "                            'ijtihad.n.02':['Al-Afghani, a prominent figure providing valuable insights into the Islamic Modernist movement, asserted that anyone with a reasonable level of religious knowledge could engage in ijtihad.','In post-Islamic modernist movements, such as progressives and militant Islam, ijtihad was perceived as pure reasoning not constrained by the religious texts.'],\n",
    "                            'jihad.n.01':['Jihad is viewed as a defensive struggle and an individual obligation for all Muslims, to be waged when the Muslim community comes under attack.'],\n",
    "                           'jihad.n.02': ['A Muslim\\'s jihad can be to detach oneself from the Nafs (self, physical needs) and establish a connection with the Ruh (spiritual essence).'],\n",
    "                           'taklid.n.01':['Revivalists, who advocated for the use of ijtihad in the legal system, generally rejected the use of taklid to some extent.'],\n",
    "                            'taklid.n.02':['Modernists perceived taklid as mere imitation, leading to social stagnation.'],\n",
    "                            'takfir.n.01':['The revivalist Muhammad ibn Abd al-Wahhab considered takfir as a means to return to the fundamental roots of Islam.'],\n",
    "                            'takfir.n.02':['Some Muslim practitioners hold the belief that God has appointed people to govern, and as a result, they cannot be overthrown. The concept of political takfir thus justifies the overthrow of a government if it is deemed non-Islamic.'],\n",
    "                            'ijma.n.01':[],\n",
    "                            'fatwa.n.01':['The fatwa (response) provided by the mufti solely represented a legal opinion, and the individual petitioner was not obligated to comply with it.','Within the classical Islamic legal system, when judges (qadis) applied a mufti\\'s fatwa to a legal case, which they seldom dismissed, the fatwa acquired legal binding status.'],\n",
    "                            'fatwa.n.02':[],\n",
    "                            'mufti.n.01':['A mufti, as an Islamic legal expert, is qualified to issue fatwas (legal opinions).'],\n",
    "                            'fiqh.n.01':[],\n",
    "                            'sharia.n.01':[],\n",
    "                            'imam.n.01':['Twelver and Ismaili Shiites believe that the formal Imam is appointed by the previous Imam, whereas Zaydi Shiites believe that a qualified candidate becomes Imam through leading a successful military uprising.',\n",
    "                                        'Imams are divinely designated to guide the Muslim community, serving as interpreters and custodians of revelation.'],\n",
    "                            'imam.n.02':[],\n",
    "                            'tariqa.n.01':[],\n",
    "                            'tariqa.n.02':[]}\n",
    "\n",
    "    def get_lexemes(self,word):\n",
    "        if word in self.lexemes:\n",
    "            return self.lexemes[word]\n",
    "        return []\n",
    "    \n",
    "    def get_lexeme_def(self,lex):\n",
    "        if lex in self.lexemes_def:\n",
    "            return self.lexemes_def[lex][0]\n",
    "        return []\n",
    "    \n",
    "    def get_lexeme_examples(self,lex):\n",
    "        if lex in self.lexemes_examples:\n",
    "            return self.lexemes_examples[lex]\n",
    "        return []\n",
    "    \n",
    "def tokenize(s):\n",
    "    \"\"\"\n",
    "    a naive tokenizer that splits on punctuation and whitespaces.\n",
    "    \"\"\"\n",
    "    s = \"\".join(\" \" if x in string.punctuation else x for x in s.lower())\n",
    "    return s.split()  \n",
    "    \n",
    "def overlap(contex, sentence) -> int:\n",
    "    islamic_stop_words = {'islam', 'muslim', 'muslims','islamic'} # Counting those words in the overlap will not add valueable information \n",
    "    stop_words = stopwords.words('english')\n",
    "    sen_toks =  tokenize(sentence)\n",
    "    con_toks = tokenize(context[0])\n",
    "    overlap = (set(sen_toks) & set(con_toks)) - set(stop_words) - islamic_stop_words - set([context[1]])\n",
    "    return len(overlap)\n",
    "\n",
    "wn = Islamic_Wordnet() # Create Islamic_Wordnet object to access the information\n",
    "\n",
    "# Simple technique used in NLP which looks at the overlap between the unseen data and the data in the wordnet \n",
    "def wn_simple_lesk_predictor(context) -> (str,str):\n",
    "    scores = defaultdict(int)\n",
    "    lexemes = wn.get_lexemes(context[1]) # retrieve all lexemes of the word\n",
    "    for lex in lexemes:\n",
    "        overlap_score = 0\n",
    "        overlap_score += overlap(context,wn.get_lexeme_def(lex)) # add overlap with the sense(lexeme) definition()\n",
    "        for example in wn.get_lexeme_examples(lex): # add overlaps with the sense(lexeme) examples\n",
    "            overlap_score += overlap(context, example)\n",
    "        scores[lex]=overlap_score\n",
    "    if not scores: #checking if scores dictionary is empty\n",
    "        return (lexemes[0],wn.get_lexeme_def(lexemes[0])) # return first lexeme\n",
    "    scores_sorted = sorted(list(zip(scores.keys(), scores.values())),key=lambda x: x[1])[::-1] # Sort in increasing order so lexeme with max overlap occur first on the list\n",
    "    best_lexeme = scores_sorted[0][0]\n",
    "    lexemes_def = wn.get_lexeme_def(best_lexeme)\n",
    "    return (best_lexeme,lexemes_def)\n"
   ]
  },
  {
   "cell_type": "markdown",
   "metadata": {},
   "source": [
    "## Test Data"
   ]
  },
  {
   "cell_type": "markdown",
   "metadata": {},
   "source": [
    "*Many of the sentences here were taken from the assigned readings of the course, and some from articles.* \n",
    "\n",
    "*Each sub-bullet corresponds to the accurate meaning of the word that the model should predict.*\n",
    "\n",
    "- **Ijtihad**\n",
    "    - \"Except for a relatively few Quranic and Prophetic statements which were unambiguous and which contained clear and specific normative rulings, the rest of the law was a product of *ijtihad*\" (Hallaq, An Introduction to Islamic Law, 27).\n",
    "        - ijtihad.n.01\n",
    "    - \"Every accomplished jurist could exercise *ijtihad*, and no one knew, except for God, which mujtahid (the jutist conducting ijtihad) was correct\" (Hallaq, An Introduction to Islamic Law, 27).\n",
    "        - ijtihad.n.01\n",
    "    - \"Seven of the eight most popular newspapers and journals published in Egypt between 1870 and 1911 unabashedly supported some version of al-Afghani's program and utilized al-Afghani's populist concept of *ijtihad*\" (Gesink, “Chaos on Earth,” The American Historical Review, 12).\n",
    "        - ijtihad.n.02\n",
    "    - Engaging in *ijtihad* requires a deep understanding of Islamic sources and principles. \n",
    "        - ijtihad.n.02\n",
    "\n",
    "- **Jihad** \n",
    "    - \"(Our Umma) is looking to the divine scholars who lead her with inspiration and drive her on the right path and fight with her in the theaters and battlefields of *jihad* for the sake of God Almighty\" (Bin Laden, The Statements, The Invasion of Arabia).\n",
    "        - jihad.n.01\n",
    "    - The concept of jihad emphasizes spiritual struggles and personal growth.\n",
    "        - jihad.n.02\n",
    "\n",
    "- **Taklid**\n",
    "    - \"Al-Afghani's definitions of taqlid and were subtly different from those used by the legal scholar ‘Ilish\" (Gesink, “Chaos on Earth,” The American Historical Review, 10).  \n",
    "        - taklid.n.02\n",
    "\n",
    "- **Takfir**\n",
    "    - The recent juridical cases issued by the chief Mufti of the country led the largest militant movement in the nation to declare takfir on the government.\n",
    "        - takfir.n.02\n",
    "    - \"The list is long, and there is no room for mentioning everything, and it is enough to know that Imam Al-Shafi'i considered natural sciences, chemistry and philosophy to be taboo, and that he and Imam Al-Ghazali, Al-Dhahabi, Ibn Al-Qayyim, Ibn Al-Jawzi, Ibn Taymiyyah and others issued fatwas declaring takfir and wasting the blood of all those who insult the rational sciences!\"\n",
    "        - \"Al Kandari and spiteful stealing of our sciences\". Arab Times, May 11, 2023 Thursday. advance-lexis-com.ezproxy.cul.columbia.edu/api/document?collection=news&id=urn:contentItem:686X-3XD1-JDJN-63PJ-00000-00&context=1516831. Accessed August 6, 2023.\n",
    "        - takfir.n.01 (not clear can be both)\n",
    "    - \"The apparent contradiction between Ibn Fudi earlier tolerance and his later sweeping tafkir is an issue which he confronted and creatively resolved\" (Dallal, “The Origins and Objectives of Islamic Revivalist Thought”, 354).\n",
    "        - takfir.n.02\n",
    "    \n",
    "- **Ijma**\n",
    "    - \"Omar Suleiman addresses the role of Ijma' when it comes to Islamic rulings on ever-changing modern day issues.\"\n",
    "        - https://yaqeeninstitute.org/omar-suleiman/does-islam-ever-change-the-role-of-ijma-consensus-in-the-21st-century\n",
    "        - ijma.n.01\n",
    "\n",
    "- **Fatwa**\n",
    "    - \"All this is to say that the fatwa is the product of legal expertise and advanced legal knowledge\" (Hallaq, An Introduction to Islamic Law, 9).\n",
    "        - fatwa.n.01\n",
    "\n",
    "- **Mufti** \n",
    "    - \"We begin with the mufti because of his central role in the early evolution of Islamic law and his important contribution to its continued flourushing and adaptability throughtout the centuries\" (Hallaq, An Introduction to Islamic Law, 9).\n",
    "        - mufti.n.01\n",
    "- **Fiqh** \n",
    "    - \"What is the influence that occurred on the implementation of *Fiqh* by the people in Aceh and North Sumatra Medan?\"\n",
    "        - \"Universitas Islam Negeri Ar-Raniry Researchers Have Provided New Data on Islam Studies (The Struggle Between Salafi Scholars And Islamic Boarding School Scholars: The Controversy Over The Practice of Fiqh Hadith in Aceh And North Sumatra, ...)\". NewsRx Policy and Law Daily, July 18, 2023 Tuesday. advance-lexis-com.ezproxy.cul.columbia.edu/api/document?collection=news&id=urn:contentItem:68R8-MH71-DY7R-R537-00000-00&context=1516831. Accessed August 6, 2023.\n",
    "        - fiqh.n.01\n",
    "        \n",
    "- **Sharia** \n",
    "    - \"For now we will speak ... of four types of legal personnel who played fundamental roles in the construction, elaboration and continued operation of the *Sharia*\" (Hallaq, An Introduction to Islamic Law, 8). \n",
    "        - sharia.n.01\n",
    "- **Imam** \n",
    "    - \"The existence of a rational, just God was often used to establish the necessity of an Imam to lead the community (Haider, Shia Islam, 25).\n",
    "        - imam.n.01\n",
    "    - The Imam led the congregation in prayer at the mosque.\n",
    "        - imam.n.02\n",
    "- **Tariqa** \n",
    "    - \"In the first place, the Pir should be worthy of imitation, i.e., he should have a perfect knowledge, both theoretical and practical, of the three stages of the mystical life—the Law (Shari‘a), the Path (*Tariqa*), and the Truth (Haqiqa); he should also be entirely purged of fleshly attributes, so that nothing of his lower “self” (nafs) remains in him\" (Abu Sa‘id b. Abi’l-Khayr, Selections, 8)."
   ]
  },
  {
   "cell_type": "markdown",
   "metadata": {},
   "source": [
    "### Code portion "
   ]
  },
  {
   "cell_type": "code",
   "execution_count": 129,
   "metadata": {},
   "outputs": [],
   "source": [
    "# each item in the list is a tuple (<sentence>,<word>,<correct_lex>)\n",
    "test_sentences = [\n",
    "    ('Except for a relatively few Quranic and Prophetic statements which were unambiguous and which contained clear and specific normative rulings, the rest of the law was a product of ijtihad (Hallaq, An Introduction to Islamic Law, 27).','ijtihad','ijtihad.n.01'),\n",
    "    ('Every accomplished jurist could exercise ijtihad, and no one knew, except for God, which mujtahid (the jutist conducting ijtihad) was correct (Hallaq, An Introduction to Islamic Law, 27).','ijtihad','ijtihad.n.01'),\n",
    "    ('Seven of the eight most popular newspapers and journals published in Egypt between 1870 and 1911 unabashedly supported some version of al-Afghani\\'s program and utilized al-Afghani\\'s populist concept of ijtihad\" (Gesink, Chaos on Earth, The American Historical Review, 12).','ijtihad','ijtihad.n.02'),\n",
    "    ('Engaging in ijtihad requires a deep understanding of Islamic sources and principles.','ijtihad','ijtihad.n.02'),\n",
    "    ('(Our Umma) is looking to the divine scholars who lead her with inspiration and drive her on the right path and fight with her in the theaters and battlefields of jihad for the sake of God Almighty (Bin Laden, The Statements, The Invasion of Arabia).','jihad','jihad.n.01'),\n",
    "    ('The concept of jihad emphasizes spiritual struggles and personal growth.','jihad','jihad.n.02'),\n",
    "    ('Al-Afghani\\'s definitions of taqlid and were subtly different from those used by the legal scholar ‘Ilish (Gesink, Chaos on Earth, The American Historical Review, 10).','taklid','taklid.n.02'),\n",
    "    ('The recent juridical cases issued by the chief Mufti of the country led the largest militant movement in the nation to declare takfir on the government.', 'takfir', 'takfir.n.02'),\n",
    "    ('The list is long, and there is no room for mentioning everything, and it is enough to know that Imam Al-Shafi\\'i considered natural sciences, chemistry and philosophy to be taboo, and that he and Imam Al-Ghazali, Al-Dhahabi, Ibn Al-Qayyim, Ibn Al-Jawzi, Ibn Taymiyyah and others issued fatwas declaring takfir and wasting the blood of all those who insult the rational sciences!','takfir','takfir.n.01'),\n",
    "    ('The apparent contradiction between Ibn Fudi earlier tolerance and his later sweeping tafkir is an issue which he confronted and creatively resolved\" (Dallal, “The Origins and Objectives of Islamic Revivalist Thought, 354).','takfir','takfir.n.02'),\n",
    "    ('Omar Suleiman addresses the role of Ijma\\' when it comes to Islamic rulings on ever-changing modern day issues.','ijma','ijma.n.01'),\n",
    "    ('All this is to say that the fatwa is the product of legal expertise and advanced legal knowledge (Hallaq, An Introduction to Islamic Law, 9).', 'fatwa', 'fatwa.n.01'),\n",
    "    ('We begin with the mufti because of his central role in the early evolution of Islamic law and his important contribution to its continued flourushing and adaptability throughtout the centuries (Hallaq, An Introduction to Islamic Law, 9).', 'mufti','mufti.n.01'),\n",
    "    ('What is the influence that occurred on the implementation of Fiqh by the people in Aceh and North Sumatra Medan?', 'fiqh', 'fiqh.n.01'),\n",
    "    ('For now we will speak ... of four types of legal personnel who played fundamental roles in the construction, elaboration and continued operation of the Sharia (Hallaq, An Introduction to Islamic Law, 8). ','sharia', 'sharia.n.01'),\n",
    "    ('The existence of a rational, just God was often used to establish the necessity of an Imam to lead the community (Haider, Shia Islam, 25).','imam','imam.n.01'),\n",
    "    ('The Imam led the congregation in prayer at the mosque.', 'imam','imam.n.02'),\n",
    "    ('In the first place, the Pir should be worthy of imitation, i.e., he should have a perfect knowledge, both theoretical and practical, of the three stages of the mystical life—the Law (Shari‘a), the Path (Tariqa), and the Truth (Haqiqa); he should also be entirely purged of fleshly attributes, so that nothing of his lower “self” (nafs) remains in him (Abu Sa‘id b. Abi’l-Khayr, Selections, 8).','tariqa','tariqa.n.02')   \n",
    "]"
   ]
  },
  {
   "cell_type": "markdown",
   "metadata": {},
   "source": [
    "## Performance "
   ]
  },
  {
   "cell_type": "code",
   "execution_count": 133,
   "metadata": {},
   "outputs": [
    {
     "name": "stdout",
     "output_type": "stream",
     "text": [
      "The predicted meaning for the word \"ijtihad\" in the sentenceֿ:\n",
      "\"Except for a relatively few Quranic and Prophetic statements which were unambiguous and which contained clear and specific normative rulings, the rest of the law was a product of ijtihad (Hallaq, An Introduction to Islamic Law, 27).\" is:\n",
      "A legal method to derive law by employing reasoning rooted in the authentic and authoritative texts, namely the Quran and the Sunna.\n",
      "Correct.\n",
      "\n",
      "The predicted meaning for the word \"ijtihad\" in the sentenceֿ:\n",
      "\"Every accomplished jurist could exercise ijtihad, and no one knew, except for God, which mujtahid (the jutist conducting ijtihad) was correct (Hallaq, An Introduction to Islamic Law, 27).\" is:\n",
      "The individual practice of Muslims using reason.\n",
      "Incorrect.\n",
      "\n",
      "The predicted meaning for the word \"ijtihad\" in the sentenceֿ:\n",
      "\"Seven of the eight most popular newspapers and journals published in Egypt between 1870 and 1911 unabashedly supported some version of al-Afghani's program and utilized al-Afghani's populist concept of ijtihad\" (Gesink, Chaos on Earth, The American Historical Review, 12).\" is:\n",
      "The individual practice of Muslims using reason.\n",
      "Correct.\n",
      "\n",
      "The predicted meaning for the word \"ijtihad\" in the sentenceֿ:\n",
      "\"Engaging in ijtihad requires a deep understanding of Islamic sources and principles.\" is:\n",
      "The individual practice of Muslims using reason.\n",
      "Correct.\n",
      "\n",
      "The predicted meaning for the word \"jihad\" in the sentenceֿ:\n",
      "\"(Our Umma) is looking to the divine scholars who lead her with inspiration and drive her on the right path and fight with her in the theaters and battlefields of jihad for the sake of God Almighty (Bin Laden, The Statements, The Invasion of Arabia).\" is:\n",
      "A holy struggle or striving by a Muslim for a moral or spiritual goal.\n",
      "Incorrect.\n",
      "\n",
      "The predicted meaning for the word \"jihad\" in the sentenceֿ:\n",
      "\"The concept of jihad emphasizes spiritual struggles and personal growth.\" is:\n",
      "A holy struggle or striving by a Muslim for a moral or spiritual goal.\n",
      "Correct.\n",
      "\n",
      "The predicted meaning for the word \"taklid\" in the sentenceֿ:\n",
      "\"Al-Afghani's definitions of taqlid and were subtly different from those used by the legal scholar ‘Ilish (Gesink, Chaos on Earth, The American Historical Review, 10).\" is:\n",
      "A legal pratice of classical jurists following the legal opinions and rulings of qualified scholars in matters of Islamic law.\n",
      "Incorrect.\n",
      "\n",
      "The predicted meaning for the word \"takfir\" in the sentenceֿ:\n",
      "\"The recent juridical cases issued by the chief Mufti of the country led the largest militant movement in the nation to declare takfir on the government.\" is:\n",
      "A controversial practice of declaring a Muslim ruler or government as an apostate due to their perceived violation of Islamic principles or unjust rule. The term used to describe this practice is political takfir.\n",
      "Correct.\n",
      "\n",
      "The predicted meaning for the word \"takfir\" in the sentenceֿ:\n",
      "\"The list is long, and there is no room for mentioning everything, and it is enough to know that Imam Al-Shafi'i considered natural sciences, chemistry and philosophy to be taboo, and that he and Imam Al-Ghazali, Al-Dhahabi, Ibn Al-Qayyim, Ibn Al-Jawzi, Ibn Taymiyyah and others issued fatwas declaring takfir and wasting the blood of all those who insult the rational sciences!\" is:\n",
      "The act of a Muslim declaring an individual Muslim to be an unbeliever or apostate, usually based on their beliefs or actions contrary to the tenets of Islam.\n",
      "Correct.\n",
      "\n",
      "The predicted meaning for the word \"takfir\" in the sentenceֿ:\n",
      "\"The apparent contradiction between Ibn Fudi earlier tolerance and his later sweeping tafkir is an issue which he confronted and creatively resolved\" (Dallal, “The Origins and Objectives of Islamic Revivalist Thought, 354).\" is:\n",
      "The act of a Muslim declaring an individual Muslim to be an unbeliever or apostate, usually based on their beliefs or actions contrary to the tenets of Islam.\n",
      "Incorrect.\n",
      "\n",
      "The predicted meaning for the word \"ijma\" in the sentenceֿ:\n",
      "\"Omar Suleiman addresses the role of Ijma' when it comes to Islamic rulings on ever-changing modern day issues.\" is:\n",
      "The consensus of the Muslim community's scholars on a particular legal issue.\n",
      "Correct.\n",
      "\n",
      "The predicted meaning for the word \"fatwa\" in the sentenceֿ:\n",
      "\"All this is to say that the fatwa is the product of legal expertise and advanced legal knowledge (Hallaq, An Introduction to Islamic Law, 9).\" is:\n",
      "In its classical formulation, a fatwa is a formal legal opinion or answer issued by a qualified Islamic scholar (mufti). It provides guidance on various aspects of life, such as personal conduct, finance, and morality.\n",
      "Correct.\n",
      "\n",
      "The predicted meaning for the word \"mufti\" in the sentenceֿ:\n",
      "\"We begin with the mufti because of his central role in the early evolution of Islamic law and his important contribution to its continued flourushing and adaptability throughtout the centuries (Hallaq, An Introduction to Islamic Law, 9).\" is:\n",
      "In a classical Islamic legal system, a mufti is a private, educated legal specialist responsible both legally and morally to the society in which they live.\n",
      "Correct.\n",
      "\n",
      "The predicted meaning for the word \"fiqh\" in the sentenceֿ:\n",
      "\"What is the influence that occurred on the implementation of Fiqh by the people in Aceh and North Sumatra Medan?\" is:\n",
      "Classical Islamic jurisprudence. It encompasses the practices and processes of understanding God's will and forming Islamic law that is based the Quran and the Sunna.\n",
      "Correct.\n",
      "\n",
      "The predicted meaning for the word \"sharia\" in the sentenceֿ:\n",
      "\"For now we will speak ... of four types of legal personnel who played fundamental roles in the construction, elaboration and continued operation of the Sharia (Hallaq, An Introduction to Islamic Law, 8). \" is:\n",
      "A body of religious law derived from fiqh and rooted in the sacred scriptures of Islam, particularly the Quran and the Sunnah.\n",
      "Correct.\n",
      "\n",
      "The predicted meaning for the word \"imam\" in the sentenceֿ:\n",
      "\"The existence of a rational, just God was often used to establish the necessity of an Imam to lead the community (Haider, Shia Islam, 25).\" is:\n",
      " Within Shia Islam, the term refers to the absolute spiritual and political leader of the muslim community, beginning with the prophet Muhammad, who then appointed his cousin and son-in-law Imam Ali ibn Abi Talib.\n",
      "Correct.\n",
      "\n",
      "The predicted meaning for the word \"imam\" in the sentenceֿ:\n",
      "\"The Imam led the congregation in prayer at the mosque.\" is:\n",
      "In Sunni Islam, an Imam can be the individual who leads prayers in a mosque.\n",
      "Correct.\n",
      "\n",
      "The predicted meaning for the word \"tariqa\" in the sentenceֿ:\n",
      "\"In the first place, the Pir should be worthy of imitation, i.e., he should have a perfect knowledge, both theoretical and practical, of the three stages of the mystical life—the Law (Shari‘a), the Path (Tariqa), and the Truth (Haqiqa); he should also be entirely purged of fleshly attributes, so that nothing of his lower “self” (nafs) remains in him (Abu Sa‘id b. Abi’l-Khayr, Selections, 8).\" is:\n",
      "A mystic, spiritual path of individual Sufis (practitioners of Sufism).\n",
      "Correct.\n",
      "\n",
      "Model's accuracy: 0.7777777777777778\n"
     ]
    }
   ],
   "source": [
    "correct = 0\n",
    "total = 0\n",
    "for context in test_sentences:\n",
    "    predicted_lex, lex_def = wn_simple_lesk_predictor(context)\n",
    "    # Print sentence prediction \n",
    "    print(\"The predicted meaning for the word \\\"{}\\\" in the sentenceֿ:\\n\\\"{}\\\" is:\\n{}\".format(context[1],context[0],lex_def))\n",
    "    if (predicted_lex == context[2]):\n",
    "        print(\"Correct.\\n\")\n",
    "        correct += 1\n",
    "    else: \n",
    "        print(\"Incorrect.\\n\")\n",
    "    total += 1\n",
    "\n",
    "print(\"Model's accuracy:\", correct/total)\n",
    "    "
   ]
  },
  {
   "cell_type": "markdown",
   "metadata": {},
   "source": [
    "*It should be noted that additional data is required to reliably evaluate the model.*"
   ]
  },
  {
   "cell_type": "markdown",
   "metadata": {},
   "source": [
    "## Needed Improvements"
   ]
  },
  {
   "cell_type": "markdown",
   "metadata": {},
   "source": [
    "This is a brief example illustrating how NLP can enrich our understanding of Islam. However, there is a need for further work, including expanding WordNet with additional words and examples, refining its definitions, and incorporating more complex structures like adding hyponyms to represent subclass relationships. This expansion will provide a broader range of training data and, with an enlarged testing dataset, enable us to leverage more sophisticated ML learning models and algorithms."
   ]
  },
  {
   "cell_type": "code",
   "execution_count": null,
   "metadata": {},
   "outputs": [],
   "source": []
  }
 ],
 "metadata": {
  "anaconda-cloud": "",
  "kernelspec": {
   "display_name": "Python 3 (ipykernel)",
   "language": "python",
   "name": "python3"
  },
  "language_info": {
   "codemirror_mode": {
    "name": "ipython",
    "version": 3
   },
   "file_extension": ".py",
   "mimetype": "text/x-python",
   "name": "python",
   "nbconvert_exporter": "python",
   "pygments_lexer": "ipython3",
   "version": "3.10.11"
  },
  "varInspector": {
   "cols": {
    "lenName": 16,
    "lenType": 16,
    "lenVar": 40
   },
   "kernels_config": {
    "python": {
     "delete_cmd_postfix": "",
     "delete_cmd_prefix": "del ",
     "library": "var_list.py",
     "varRefreshCmd": "print(var_dic_list())"
    },
    "r": {
     "delete_cmd_postfix": ") ",
     "delete_cmd_prefix": "rm(",
     "library": "var_list.r",
     "varRefreshCmd": "cat(var_dic_list()) "
    }
   },
   "types_to_exclude": [
    "module",
    "function",
    "builtin_function_or_method",
    "instance",
    "_Feature"
   ],
   "window_display": false
  }
 },
 "nbformat": 4,
 "nbformat_minor": 1
}
